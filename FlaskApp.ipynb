{
 "cells": [
  {
   "cell_type": "code",
   "execution_count": null,
   "metadata": {},
   "outputs": [
    {
     "name": "stdout",
     "output_type": "stream",
     "text": [
      "WARNING:tensorflow:No training configuration found in the save file, so the model was *not* compiled. Compile it manually.\n",
      " * Serving Flask app '__main__' (lazy loading)\n",
      " * Environment: production\n",
      "\u001b[31m   WARNING: This is a development server. Do not use it in a production deployment.\u001b[0m\n",
      "\u001b[2m   Use a production WSGI server instead.\u001b[0m\n",
      " * Debug mode: on\n"
     ]
    },
    {
     "name": "stderr",
     "output_type": "stream",
     "text": [
      " * Running on http://127.0.0.1:5000/ (Press CTRL+C to quit)\n"
     ]
    },
    {
     "name": "stdout",
     "output_type": "stream",
     "text": [
      "WARNING:tensorflow:AutoGraph could not transform <function Model.make_predict_function.<locals>.predict_function at 0x7f894972eb00> and will run it as-is.\n",
      "Please report this to the TensorFlow team. When filing the bug, set the verbosity to 10 (on Linux, `export AUTOGRAPH_VERBOSITY=10`) and attach the full output.\n",
      "Cause: 'arguments' object has no attribute 'posonlyargs'\n",
      "To silence this warning, decorate the function with @tf.autograph.experimental.do_not_convert\n",
      "WARNING: AutoGraph could not transform <function Model.make_predict_function.<locals>.predict_function at 0x7f894972eb00> and will run it as-is.\n",
      "Please report this to the TensorFlow team. When filing the bug, set the verbosity to 10 (on Linux, `export AUTOGRAPH_VERBOSITY=10`) and attach the full output.\n",
      "Cause: 'arguments' object has no attribute 'posonlyargs'\n",
      "To silence this warning, decorate the function with @tf.autograph.experimental.do_not_convert\n"
     ]
    },
    {
     "name": "stderr",
     "output_type": "stream",
     "text": [
      "127.0.0.1 - - [28/Jan/2022 22:57:13] \"POST /predict HTTP/1.1\" 200 -\n",
      "127.0.0.1 - - [28/Jan/2022 22:57:45] \"GET / HTTP/1.1\" 200 -\n",
      "127.0.0.1 - - [28/Jan/2022 22:57:45] \"\u001b[36mGET /static/css/normalize.css HTTP/1.1\u001b[0m\" 304 -\n",
      "127.0.0.1 - - [28/Jan/2022 22:57:45] \"\u001b[36mGET /static/css/style.css HTTP/1.1\u001b[0m\" 304 -\n",
      "127.0.0.1 - - [28/Jan/2022 22:57:45] \"\u001b[36mGET /static/css/front.jpg HTTP/1.1\u001b[0m\" 304 -\n",
      "127.0.0.1 - - [28/Jan/2022 22:57:45] \"\u001b[36mGET /static/css/grid.css HTTP/1.1\u001b[0m\" 304 -\n",
      "127.0.0.1 - - [28/Jan/2022 22:58:05] \"\u001b[33mPOST /success HTTP/1.1\u001b[0m\" 404 -\n",
      "127.0.0.1 - - [28/Jan/2022 23:04:33] \"GET / HTTP/1.1\" 200 -\n",
      "127.0.0.1 - - [28/Jan/2022 23:04:45] \"POST /predict HTTP/1.1\" 200 -\n",
      "127.0.0.1 - - [28/Jan/2022 23:05:51] \"POST /predict HTTP/1.1\" 200 -\n"
     ]
    }
   ],
   "source": [
    "import uuid\n",
    "import io\n",
    "import flask\n",
    "import urllib\n",
    "from PIL import Image\n",
    "from tensorflow.keras.models import load_model\n",
    "from flask import Flask , render_template  , request , send_file, jsonify\n",
    "from tensorflow.keras.preprocessing.image import load_img , img_to_array\n",
    "\n",
    "app = Flask(__name__)\n",
    "model = load_model('model.h5')\n",
    "\n",
    "\n",
    "ALLOWED_EXT = set(['jpg' , 'jpeg' , 'png'])\n",
    "def allowed_file(filename):\n",
    "    return '.' in filename and \\\n",
    "           filename.rsplit('.', 1)[1] in ALLOWED_EXT\n",
    "\n",
    "classes = ['Acne and Rosacea' ,'Atopic Dermatitis', 'Bullous Disease' , 'Eczema' , 'Exanthems and Drug Eruptions' ,'Lupus and other Connective Tissue diseases' ,'Melanoma Skin Cancer Nevi and Moles', 'Nail Fungus and other Nail Disease' ,'Poison Ivy Photos and other Contact Dermatitis' ,'Vascular Tumor']\n",
    "\n",
    "def prepare_image(img):\n",
    "    img = Image.open(io.BytesIO(img))\n",
    "    img = img.resize((224, 224))\n",
    "    return img\n",
    "\n",
    "def predict(imageFile , model):\n",
    "    img_bytes = imageFile.read()\n",
    "    prepared_image = prepare_image(img_bytes)\n",
    "    img = img_to_array(prepared_image)\n",
    "    img = img.reshape(1 , 224 ,224 ,3)\n",
    "\n",
    "    img = img.astype('float32')\n",
    "    img = img/255.0\n",
    "    result = model.predict(img)\n",
    "\n",
    "    dict_result = {}\n",
    "    for i in range(10):\n",
    "        dict_result[result[0][i]] = classes[i]\n",
    "\n",
    "    res = result[0]\n",
    "    res.sort()\n",
    "    res = res[::-1]\n",
    "    prob = res[:3]\n",
    "    \n",
    "    prob_result = []\n",
    "    class_result = []\n",
    "    for i in range(3):\n",
    "        prob_result.append((prob[i]*100).round(2))\n",
    "        class_result.append(dict_result[prob[i]])\n",
    "\n",
    "    return class_result , prob_result\n",
    "\n",
    "\n",
    "\n",
    "\n",
    "@app.route('/')\n",
    "def home():\n",
    "        return render_template(\"index.html\")\n",
    "\n",
    "@app.route('/predict' , methods = ['GET' , 'POST'])\n",
    "def result():\n",
    "    error = ''\n",
    "    if request.method == 'POST':\n",
    "        file = request.files['file']\n",
    "        if file and allowed_file(file.filename):\n",
    "            class_result , prob_result = predict(file , model)\n",
    "\n",
    "            predictions = {\n",
    "                    \"class1\":class_result[0],\n",
    "                    \"class2\":class_result[1],\n",
    "                    \"class3\":class_result[2],\n",
    "                    \"prob1\": prob_result[0],\n",
    "                    \"prob2\": prob_result[1],\n",
    "                    \"prob3\": prob_result[2],\n",
    "                }\n",
    "\n",
    "        else:\n",
    "            error = \"Please upload images of jpg , jpeg and png extension only\"\n",
    "\n",
    "        if(len(error) == 0):\n",
    "            return  jsonify(predictions)\n",
    "        else:\n",
    "            return render_template('index.html' , error = error)            \n",
    "    else:\n",
    "        return render_template('index.html')\n",
    "\n",
    "if __name__ == \"__main__\":\n",
    "    app.run(debug = True, use_reloader=False)\n",
    "\n",
    "\n",
    "\n"
   ]
  },
  {
   "cell_type": "code",
   "execution_count": null,
   "metadata": {},
   "outputs": [],
   "source": []
  }
 ],
 "metadata": {
  "kernelspec": {
   "display_name": "Python 3.7 (tensorflow)",
   "language": "python",
   "name": "tensorflow"
  },
  "language_info": {
   "codemirror_mode": {
    "name": "ipython",
    "version": 3
   },
   "file_extension": ".py",
   "mimetype": "text/x-python",
   "name": "python",
   "nbconvert_exporter": "python",
   "pygments_lexer": "ipython3",
   "version": "3.7.7"
  }
 },
 "nbformat": 4,
 "nbformat_minor": 4
}
